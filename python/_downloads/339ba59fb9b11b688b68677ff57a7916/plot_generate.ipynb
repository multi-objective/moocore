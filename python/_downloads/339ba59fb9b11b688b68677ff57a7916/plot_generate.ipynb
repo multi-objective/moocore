{
  "cells": [
    {
      "cell_type": "markdown",
      "metadata": {},
      "source": [
        "# Sampling Random Nondominated Sets\n\nThis example illustrates how to sample random sets with\nmutually nondominated points.\n\nFirst we define a few functions useful for plotting.\n"
      ]
    },
    {
      "cell_type": "code",
      "execution_count": null,
      "metadata": {
        "collapsed": false
      },
      "outputs": [],
      "source": [
        "import moocore\nimport numpy as np\nimport matplotlib.pyplot as plt\nimport plotly.graph_objects as go\nfrom plotly.subplots import make_subplots\n\n\ndef plot_3d(what, x, title, plotly=False):\n    \"\"\"Scatter plot of 3D points.\"\"\"\n    if not plotly:\n        fig = plt.figure()\n        ax = fig.add_subplot(projection=\"3d\")\n\n    match what:\n        case \"simplex\":\n            # Standard 2-simplex vertices in 3D\n            x_s, y_s, z_s = np.eye(3, dtype=int)\n            if plotly:\n                surface = go.Mesh3d(\n                    x=x_s,\n                    y=y_s,\n                    z=z_s,\n                    i=[0],\n                    j=[1],\n                    k=[2],\n                    color=\"cyan\",\n                    opacity=0.2,\n                    flatshading=True,\n                    name=\"Simplex\",\n                    hoverinfo=\"none\",\n                )\n            else:\n                ax.plot_trisurf(\n                    x_s,\n                    y_s,\n                    z_s,\n                    triangles=[[0, 1, 2]],\n                    color=\"cyan\",\n                    alpha=0.2,\n                    edgecolor=\"gray\",\n                )\n\n        case \"concave\" | \"convex\":\n            # Generate points on the positive orthant of the sphere.\n            phi = np.linspace(0, np.pi / 2, 50)\n            theta = np.linspace(0, np.pi / 2, 50)\n            phi, theta = np.meshgrid(phi, theta)\n            # Convert spherical to Cartesian coordinates (unit sphere)\n            x_s = np.sin(phi) * np.cos(theta)\n            y_s = np.sin(phi) * np.sin(theta)\n            z_s = np.cos(phi)\n\n            if what == \"convex\":\n                x_s = 1 - x_s\n                y_s = 1 - y_s\n                z_s = 1 - z_s\n\n            if plotly:\n                surface = go.Surface(\n                    x=x_s,\n                    y=y_s,\n                    z=z_s,\n                    colorscale=[[0, \"cyan\"], [1, \"cyan\"]],\n                    opacity=0.2,\n                    showscale=False,\n                    name=\"Surface\",\n                )\n            else:\n                ax.plot_surface(\n                    x_s, y_s, z_s, color=\"cyan\", alpha=0.2, edgecolor=\"gray\"\n                )\n\n        case _:\n            raise ValueError(f\"Unknown plot type {what}\")\n\n    if plotly:\n        scatter = go.Scatter3d(\n            x=x[:, 0],\n            y=x[:, 1],\n            z=x[:, 2],\n            mode=\"markers\",\n            marker=dict(size=2, color=\"blue\"),\n        )\n        layout = go.Layout(\n            title=title,\n            scene=dict(\n                xaxis=dict(title=\"X\", range=[0, 1]),\n                yaxis=dict(title=\"Y\", range=[0, 1]),\n                zaxis=dict(title=\"Z\", range=[0, 1]),\n                # Approx. elev=30, azim=25\n                camera=dict(eye=dict(x=1.2, y=1.2, z=0.8)),\n            ),\n            margin=dict(l=0, r=0, b=0, t=40),\n            showlegend=False,\n        )\n        fig = go.Figure(data=[surface, scatter], layout=layout)\n    else:\n        ax.scatter(\n            x[:, 0],\n            x[:, 1],\n            x[:, 2],\n            color=\"blue\",\n            s=20,\n            marker=\"o\",\n            depthshade=False,\n        )\n        ax.set(\n            xlabel=\"X\",\n            ylabel=\"Y\",\n            zlabel=\"Z\",\n            xlim=(0, 1),\n            ylim=(0, 1),\n            zlim=(0, 1),\n            title=title,\n        )\n        ax.view_init(elev=30, azim=25)\n\n    return fig\n\n\ndef plotly_3d(what, x, title):\n    \"\"\"Scatter plot of 3D points using plotly.\"\"\"\n    return plot_3d(what=what, x=x, title=title, plotly=True)\n\n\ndef plotly_3d_side_by_side(fig1, fig2):\n    \"\"\"Show two plotly 3D figures side-by-side.\"\"\"\n    fig = make_subplots(\n        rows=1,\n        cols=2,\n        specs=[[{\"type\": \"scene\"}, {\"type\": \"scene\"}]],\n        subplot_titles=(fig1.layout.title.text, fig2.layout.title.text),\n    )\n    fig.add_traces(\n        fig1.data,\n        rows=[1] * len(fig1.data),\n        cols=[1] * len(fig1.data),\n    )\n    fig.add_traces(\n        fig2.data,\n        rows=[1] * len(fig2.data),\n        cols=[2] * len(fig2.data),\n    )\n    fig.update_layout(\n        height=400, title=\"\", margin=dict(l=0, r=0, b=0, t=40), showlegend=False\n    )\n    fig.update_scenes(fig1.layout.scene.to_plotly_json())\n    return fig"
      ]
    },
    {
      "cell_type": "markdown",
      "metadata": {},
      "source": [
        "## Random nondominated sets in 2D\n\n"
      ]
    },
    {
      "cell_type": "code",
      "execution_count": null,
      "metadata": {
        "collapsed": false
      },
      "outputs": [],
      "source": [
        "n = 100\nrng = np.random.default_rng(42)\n\nmethods = [\"simplex\", \"concave-sphere\", \"convex-sphere\", \"convex-simplex\"]\ncolors = [\"red\", \"blue\", \"green\", \"purple\"]\nmarkers = [\"o\", \"s\", \"^\", \"d\"]  # circle, square, triangle_up, diamond\n\nplt.figure(figsize=(4, 4))\nfor i, method in enumerate(methods):\n    points = moocore.generate_ndset(n, 2, method, seed=rng)\n    plt.scatter(\n        points[:, 0],\n        points[:, 1],\n        color=colors[i],\n        marker=markers[i],\n        label=method,\n    )\n\nplt.xlabel(\"X\")\nplt.ylabel(\"Y\")\nplt.legend()\nplt.tight_layout()\nplt.grid(True)\nplt.show()"
      ]
    },
    {
      "cell_type": "markdown",
      "metadata": {},
      "source": [
        "## Random nondominated sets in integer space\n\nWe can also generate points in integer space.\n\n"
      ]
    },
    {
      "cell_type": "code",
      "execution_count": null,
      "metadata": {
        "collapsed": false
      },
      "outputs": [],
      "source": [
        "n = 100\nrng = np.random.default_rng(42)\n\nmaximum = 0\npoints = []\nfor method in methods:\n    x = moocore.generate_ndset(n, 2, method, seed=rng, integer=True)\n    points += [x]\n    maximum = max(maximum, x.max())\n\nplt.figure(figsize=(4, 4))\nfor i, method in enumerate(methods):\n    x = points[i]\n    # Normalise so we can plot all sets within the same range.\n    if x.max() < maximum:\n        x = moocore.normalise(x, lower=0, upper=x.max(), to_range=(0, maximum))\n    plt.scatter(\n        x[:, 0], x[:, 1], color=colors[i], marker=markers[i], label=method\n    )\nplt.xlabel(\"X\")\nplt.ylabel(\"Y\")\nplt.legend()\nplt.tight_layout()\nplt.grid(True)\nplt.show()"
      ]
    },
    {
      "cell_type": "markdown",
      "metadata": {},
      "source": [
        "## Variants of convex nondominated sets\n\nA popular way to generate a convex nondominated set is to translate the\nnegative orthant of the hyper-sphere to the unit hyper-cube\n(``convex-sphere``).  However, there are other possible convex sets with\ndifferent properties. For example the method ``convex-simplex`` applies a\nnon-linear transformation to a ``concave-sphere`` set, resulting in a convex\ntransformation of the standard simplex.\n\n\n"
      ]
    },
    {
      "cell_type": "code",
      "execution_count": null,
      "metadata": {
        "collapsed": false
      },
      "outputs": [],
      "source": [
        "n = 2000\nrng = np.random.default_rng(42)\n\npoints = moocore.generate_ndset(n, 3, \"convex-sphere\", seed=rng)\nfig1 = plotly_3d(\"simplex\", points, title=\"Convex-sphere\")\n\npoints = moocore.generate_ndset(n, 3, \"convex-simplex\", seed=rng)\nfig2 = plotly_3d(\"simplex\", points, title=\"Convex-simplex\")\n\nplotly_3d_side_by_side(fig1, fig2)"
      ]
    },
    {
      "cell_type": "markdown",
      "metadata": {},
      "source": [
        "## Uniform sampling (moocore) vs projections of uniform samples (naive)\n\nNaive methods for sampling such sets usually sample points uniformly in the\nhypercube and project them into a lower dimensional manifold\n:cite:p:`LacKlaFon2017box`, e.g., the standard simplex or the positive orthant\nof the hypersphere.  However, such projections do not preserve the uniformity\nof the sampling, that is, not all points in the manifold have the same\nprobability of being sampled.\n\nThe function :func:`~moocore.generate_ndset` produces a uniform sampling\non the manifold, as shown in the following examples:\n\n"
      ]
    },
    {
      "cell_type": "code",
      "execution_count": null,
      "metadata": {
        "collapsed": false
      },
      "outputs": [],
      "source": [
        "n = 2000\nrng = np.random.default_rng(42)\n\npoints = moocore.generate_ndset(n, 3, \"simplex\", seed=rng)\nfig1 = plotly_3d(\"simplex\", points, title=\"Simplex (moocore)\")\n\npoints = rng.uniform(size=(n, 3))\npoints /= points.sum(axis=1, keepdims=True)\nfig2 = plotly_3d(\"simplex\", points, title=\"Simplex (naive)\")\n\nplotly_3d_side_by_side(fig1, fig2)"
      ]
    },
    {
      "cell_type": "code",
      "execution_count": null,
      "metadata": {
        "collapsed": false
      },
      "outputs": [],
      "source": [
        "points = moocore.generate_ndset(n, 3, \"concave-sphere\", seed=rng)\nfig1 = plotly_3d(\"concave\", points, title=\"Concave-sphere (moocore)\")\n\npoints = rng.uniform(size=(n, 3))\npoints /= np.linalg.norm(points, axis=1, keepdims=True)\nfig2 = plotly_3d(\"concave\", points, title=\"Concave-sphere (naive)\")\n\nplotly_3d_side_by_side(fig1, fig2)"
      ]
    },
    {
      "cell_type": "code",
      "execution_count": null,
      "metadata": {
        "collapsed": false
      },
      "outputs": [],
      "source": [
        "points = moocore.generate_ndset(n, 3, \"convex-sphere\", seed=rng)\nfig1 = plotly_3d(\"convex\", points, title=\"Convex-sphere (moocore)\")\n\npoints = rng.uniform(size=(n, 3))\npoints /= np.linalg.norm(points, axis=1, keepdims=True)\nfig2 = plotly_3d(\"convex\", 1.0 - points, title=\"Convex-sphere (naive)\")\n\nplotly_3d_side_by_side(fig1, fig2)"
      ]
    }
  ],
  "metadata": {
    "kernelspec": {
      "display_name": "Python 3",
      "language": "python",
      "name": "python3"
    },
    "language_info": {
      "codemirror_mode": {
        "name": "ipython",
        "version": 3
      },
      "file_extension": ".py",
      "mimetype": "text/x-python",
      "name": "python",
      "nbconvert_exporter": "python",
      "pygments_lexer": "ipython3",
      "version": "3.10.19"
    }
  },
  "nbformat": 4,
  "nbformat_minor": 0
}