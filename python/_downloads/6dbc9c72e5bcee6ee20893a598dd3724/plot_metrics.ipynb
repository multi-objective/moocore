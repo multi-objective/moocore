{
  "cells": [
    {
      "cell_type": "markdown",
      "metadata": {},
      "source": [
        "# Computing Multi-Objective Quality Metrics\n\nSeveral examples of computing multi-objective unary quality metrics.\n"
      ]
    },
    {
      "cell_type": "code",
      "execution_count": null,
      "metadata": {
        "collapsed": false
      },
      "outputs": [],
      "source": [
        "import numpy as np\nimport moocore"
      ]
    },
    {
      "cell_type": "markdown",
      "metadata": {},
      "source": [
        "## Comparing two multi-objective datasets using unary quality metrics\n\nFirst, read the datasets.\n\n\n"
      ]
    },
    {
      "cell_type": "code",
      "execution_count": null,
      "metadata": {
        "collapsed": false
      },
      "outputs": [],
      "source": [
        "spherical = moocore.get_dataset(\"spherical-250-10-3d.txt\")\nuniform = moocore.get_dataset(\"uniform-250-10-3d.txt\")\n\nspherical_objs = spherical[:, :-1]\nspherical_sets = spherical[:, -1]\nuniform_objs = uniform[:, :-1] / 10\nuniform_sets = uniform[:, -1]"
      ]
    },
    {
      "cell_type": "markdown",
      "metadata": {},
      "source": [
        "Create reference set and reference point.\n\n\n"
      ]
    },
    {
      "cell_type": "code",
      "execution_count": null,
      "metadata": {
        "collapsed": false
      },
      "outputs": [],
      "source": [
        "ref_set = moocore.filter_dominated(np.vstack((spherical_objs, uniform_objs)))\nref_point = 1.1"
      ]
    },
    {
      "cell_type": "markdown",
      "metadata": {},
      "source": [
        "Calculate metrics.\n\n\n"
      ]
    },
    {
      "cell_type": "code",
      "execution_count": null,
      "metadata": {
        "collapsed": false
      },
      "outputs": [],
      "source": [
        "uniform_igd_plus = moocore.apply_within_sets(\n    uniform_objs, uniform_sets, moocore.igd_plus, ref=ref_set\n)\nspherical_igd_plus = moocore.apply_within_sets(\n    spherical_objs, spherical_sets, moocore.igd_plus, ref=ref_set\n)\n\nuniform_epsilon = moocore.apply_within_sets(\n    uniform_objs, uniform_sets, moocore.epsilon_mult, ref=ref_set\n)\nspherical_epsilon = moocore.apply_within_sets(\n    spherical_objs, spherical_sets, moocore.epsilon_mult, ref=ref_set\n)\n\nuniform_hypervolume = moocore.apply_within_sets(\n    uniform_objs, uniform_sets, moocore.hypervolume, ref=ref_point\n)\nspherical_hypervolume = moocore.apply_within_sets(\n    spherical_objs, spherical_sets, moocore.hypervolume, ref=ref_point\n)\n\nprint(f\"\"\"\n            Uniform       Spherical\n            -------       ---------\nMean HV  :  {np.mean(uniform_hypervolume):.5f}       {np.mean(spherical_hypervolume):.5f}\nMean IGD+:  {np.mean(uniform_igd_plus):.5f}       {np.mean(spherical_igd_plus):.5f}\nMean eps*:  {np.mean(uniform_epsilon):.3f}       {np.mean(spherical_epsilon):.3f}\n\n\"\"\")"
      ]
    },
    {
      "cell_type": "markdown",
      "metadata": {},
      "source": [
        "## IGD and Average Hausdorff are not Pareto-compliant\n\nExample 4 by :cite:t:`IshMasTanNoj2015igd` shows a case where IGD gives the wrong answer.\n\n\n"
      ]
    },
    {
      "cell_type": "code",
      "execution_count": null,
      "metadata": {
        "collapsed": false
      },
      "outputs": [],
      "source": [
        "ref = np.array([10, 0, 6, 1, 2, 2, 1, 6, 0, 10]).reshape(-1, 2)\nA = np.array([4, 2, 3, 3, 2, 4]).reshape(-1, 2)\nB = np.array([8, 2, 4, 4, 2, 8]).reshape(-1, 2)"
      ]
    },
    {
      "cell_type": "markdown",
      "metadata": {},
      "source": [
        "Assuming minimization of both objectives, A is better than B in terms of Pareto optimality.\n\n\n"
      ]
    },
    {
      "cell_type": "code",
      "execution_count": null,
      "metadata": {
        "collapsed": false
      },
      "outputs": [],
      "source": [
        "import pandas as pd\nimport matplotlib.pyplot as plt\nimport seaborn as sns\n\nsns.set_theme()\n\ndf = pd.concat(\n    [\n        pd.DataFrame({\"f1\": x[:, 0], \"f2\": x[:, 1], \"Set\": label})\n        for x, label in zip([ref, A, B], [\"Ref\", \"A\", \"B\"])\n    ],\n    ignore_index=True,\n)\nax = sns.scatterplot(data=df, x=\"f1\", y=\"f2\", style=\"Set\", hue=\"Set\", s=200)\nplt.show()"
      ]
    },
    {
      "cell_type": "markdown",
      "metadata": {},
      "source": [
        "However, both :func:`moocore.igd` and :func:`moocore.avg_hausdorff_dist`\nincorrectly measure B as better than A, whereas :func:`moocore.igd_plus` and\n:func:`moocore.hypervolume` correctly measure A as better than B (remember\nthat hypervolume must be maximized) and :func:`moocore.epsilon_additive` measures\nboth as equally good (epsilon is weakly Pareto compliant).\n\n\n"
      ]
    },
    {
      "cell_type": "code",
      "execution_count": null,
      "metadata": {
        "collapsed": false
      },
      "outputs": [],
      "source": [
        "pd.DataFrame(\n    dict(\n        A=[\n            moocore.igd(A, ref),\n            moocore.avg_hausdorff_dist(A, ref),\n            moocore.igd_plus(A, ref),\n            moocore.epsilon_additive(A, ref),\n            moocore.hypervolume(A, ref=10),\n        ],\n        B=[\n            moocore.igd(B, ref),\n            moocore.avg_hausdorff_dist(B, ref),\n            moocore.igd_plus(B, ref),\n            moocore.epsilon_additive(B, ref),\n            moocore.hypervolume(B, ref=10),\n        ],\n    ),\n    index=[\"IGD\", \"Hausdorff\", \"IGD+\", \"eps+\", \"HV\"],\n)"
      ]
    }
  ],
  "metadata": {
    "kernelspec": {
      "display_name": "Python 3",
      "language": "python",
      "name": "python3"
    },
    "language_info": {
      "codemirror_mode": {
        "name": "ipython",
        "version": 3
      },
      "file_extension": ".py",
      "mimetype": "text/x-python",
      "name": "python",
      "nbconvert_exporter": "python",
      "pygments_lexer": "ipython3",
      "version": "3.10.19"
    }
  },
  "nbformat": 4,
  "nbformat_minor": 0
}