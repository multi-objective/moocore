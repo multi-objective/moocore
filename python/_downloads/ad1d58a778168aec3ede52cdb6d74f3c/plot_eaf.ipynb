{
  "cells": [
    {
      "cell_type": "markdown",
      "metadata": {},
      "source": [
        "# Empirical Attainment Function\n\nThis example illustrates functionality related to the EAF.\n\n## The AUC of the EAF and the AOC (Hypervolume)\n\nThe Area-Over-the-Curve (i.e., the hypervolume) of a set of nondominated sets is exactly the the Area-Under-the-Curve (AUC) of their corresponding EAF :cite:p:`LopVerDreDoe2025`, as this example shows.\n"
      ]
    },
    {
      "cell_type": "code",
      "execution_count": null,
      "metadata": {
        "collapsed": false
      },
      "outputs": [],
      "source": [
        "import numpy as np\nimport pandas as pd\nimport moocore\n\nA = moocore.get_dataset(\"ALG_1_dat.xz\")\nsets = A[:, -1]\nA = A[:, :-1]\nA = moocore.normalise(A, to_range=[0, 1])\n\naoc = moocore.apply_within_sets(A, sets, moocore.hypervolume, ref=1)\naoc = aoc.mean()\neaf_a = moocore.eaf(A, sets=sets)\neaf_a[:, 2] /= 100\n\nauc = moocore.hypervolume(eaf_a, ref=[1, 1, 0], maximise=[False, False, True])\nnruns = len(np.unique(sets))\nprint(f\"Runs = {nruns}\\nAUC of EAF = {auc}\\n  Mean AOC = {aoc}\\n\")\n\nruns = range(5, nruns + 1)\naocs = []\naucs = []\nfor r in runs:\n    selection = sets <= r\n    subsets = sets[selection]\n    a = A[selection, :]\n    aoc = moocore.apply_within_sets(\n        a, subsets, moocore.hypervolume, ref=1\n    ).mean()\n    eaf_a = moocore.eaf(a, subsets)\n    eaf_a[:, 2] /= 100\n    auc = moocore.hypervolume(\n        eaf_a, ref=[1, 1, 0], maximise=[False, False, True]\n    )\n    aocs += [aoc]\n    aucs += [auc]\n\ndf = pd.DataFrame(dict(r=runs, AOC=aocs, AUC=aucs)).set_index(\"r\")\ndf.plot(style=[\"rs-\", \"c^--\"], xlabel=\"Number of sets\", ylabel=\"Value\")"
      ]
    }
  ],
  "metadata": {
    "kernelspec": {
      "display_name": "Python 3",
      "language": "python",
      "name": "python3"
    },
    "language_info": {
      "codemirror_mode": {
        "name": "ipython",
        "version": 3
      },
      "file_extension": ".py",
      "mimetype": "text/x-python",
      "name": "python",
      "nbconvert_exporter": "python",
      "pygments_lexer": "ipython3",
      "version": "3.10.19"
    }
  },
  "nbformat": 4,
  "nbformat_minor": 0
}