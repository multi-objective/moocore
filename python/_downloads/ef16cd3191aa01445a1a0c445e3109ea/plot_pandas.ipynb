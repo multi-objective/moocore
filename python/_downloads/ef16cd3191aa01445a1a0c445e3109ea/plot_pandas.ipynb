{
  "cells": [
    {
      "cell_type": "markdown",
      "metadata": {},
      "source": [
        "# Using moocore with Pandas\n\nThis example shows how to use ``moocore`` functions with Pandas (https://pandas.pydata.org/). This example requires pandas version >= 2.0.0\n"
      ]
    },
    {
      "cell_type": "code",
      "execution_count": null,
      "metadata": {
        "collapsed": false
      },
      "outputs": [],
      "source": [
        "import moocore\nimport pandas as pd\n\nprint(f\"pandas version: {pd.__version__}\")"
      ]
    },
    {
      "cell_type": "markdown",
      "metadata": {},
      "source": [
        "First, we create a toy Pandas :class:`~pandas.DataFrame`.\n\n"
      ]
    },
    {
      "cell_type": "code",
      "execution_count": null,
      "metadata": {
        "collapsed": false
      },
      "outputs": [],
      "source": [
        "df = pd.DataFrame(\n    dict(\n        obj1=[1, 2, 3, 4, 5],\n        obj2=[5, 4, 3, 2, 1],\n        obj3=[100, 200, 200, 300, 100],\n        algo=2 * [\"foo\"] + 2 * [\"bar\"] + [\"foo\"],\n    )\n)\ndf"
      ]
    },
    {
      "cell_type": "markdown",
      "metadata": {},
      "source": [
        "Normalize it (only replace the objective columns!).\n\n"
      ]
    },
    {
      "cell_type": "code",
      "execution_count": null,
      "metadata": {
        "collapsed": false
      },
      "outputs": [],
      "source": [
        "obj_cols = [\"obj1\", \"obj2\", \"obj3\"]\ndf[obj_cols] = moocore.normalise(df[obj_cols], to_range=[1, 2])\ndf"
      ]
    },
    {
      "cell_type": "markdown",
      "metadata": {},
      "source": [
        "Calculate the hypervolume for each ``algo`` using :meth:`~pandas.DataFrame.groupby` and :meth:`~pandas.core.groupby.DataFrameGroupBy.apply`.\n\n"
      ]
    },
    {
      "cell_type": "code",
      "execution_count": null,
      "metadata": {
        "collapsed": false
      },
      "outputs": [],
      "source": [
        "ref = 2.1\nhv = (\n    df.groupby(\"algo\")[obj_cols]\n    .apply(moocore.hypervolume, ref=ref)\n    .reset_index(name=\"hv\")\n)\nhv"
      ]
    },
    {
      "cell_type": "markdown",
      "metadata": {},
      "source": [
        "Or we can just use:\n\n"
      ]
    },
    {
      "cell_type": "code",
      "execution_count": null,
      "metadata": {
        "collapsed": false
      },
      "outputs": [],
      "source": [
        "hv = moocore.apply_within_sets(\n    df[obj_cols], df[\"algo\"], moocore.hypervolume, ref=ref\n)\nhv"
      ]
    },
    {
      "cell_type": "markdown",
      "metadata": {},
      "source": [
        ":func:`moocore.apply_within_sets()` processes each group in\norder, even if the elements of the same group are not contiguous. That is, it\nprocesses the groups like :meth:`pandas.Series.unique` and not like\n:class:`set` or :func:`numpy.unique()`.\n\n"
      ]
    },
    {
      "cell_type": "code",
      "execution_count": null,
      "metadata": {
        "collapsed": false
      },
      "outputs": [],
      "source": [
        "df[\"algo\"].unique()"
      ]
    },
    {
      "cell_type": "markdown",
      "metadata": {},
      "source": [
        "If we have multiple columns that we want to use to define the sets, such as ``algo`` and ``run``:\n\n"
      ]
    },
    {
      "cell_type": "code",
      "execution_count": null,
      "metadata": {
        "collapsed": false
      },
      "outputs": [],
      "source": [
        "df = pd.DataFrame(\n    dict(\n        obj1=[1, 2, 3, 4, 5, 6, 5, 4, 3, 1],\n        obj2=[6, 5, 4, 3, 2, 1, 5, 4, 5, 6],\n        obj3=[1, 2, 3, 4, 5, 6, 6, 7, 5, 2],\n        algo=[\"a\"] * 3 + [\"b\"] * 3 + [\"a\", \"b\"] * 2,\n        run=[1, 1, 2, 1, 1, 2, 2, 2, 1, 1],\n    )\n)\nobj_cols = [\"obj1\", \"obj2\", \"obj3\"]\ndf"
      ]
    },
    {
      "cell_type": "markdown",
      "metadata": {},
      "source": [
        "We can still use :meth:`~pandas.DataFrame.groupby` but we may need to reset and clean-up the index.\n\n"
      ]
    },
    {
      "cell_type": "code",
      "execution_count": null,
      "metadata": {
        "collapsed": false
      },
      "outputs": [],
      "source": [
        "df.groupby([\"algo\", \"run\"])[obj_cols].apply(\n    moocore.filter_dominated\n).reset_index(level=[\"algo\", \"run\"])"
      ]
    },
    {
      "cell_type": "markdown",
      "metadata": {},
      "source": [
        "Or we can combine the multiple columns as one to define the sets:\n\n\n"
      ]
    },
    {
      "cell_type": "code",
      "execution_count": null,
      "metadata": {
        "collapsed": false
      },
      "outputs": [],
      "source": [
        "sets = df[\"algo\"].astype(str) + \"-\" + df[\"run\"].astype(str)\nsets"
      ]
    },
    {
      "cell_type": "markdown",
      "metadata": {},
      "source": [
        "then identify nondominated rows within each set:\n\n\n"
      ]
    },
    {
      "cell_type": "code",
      "execution_count": null,
      "metadata": {
        "collapsed": false
      },
      "outputs": [],
      "source": [
        "is_nondom = moocore.is_nondominated_within_sets(df[obj_cols], sets=sets)\nis_nondom"
      ]
    },
    {
      "cell_type": "markdown",
      "metadata": {},
      "source": [
        "And use the boolean vector above to filter rows:\n\n\n"
      ]
    },
    {
      "cell_type": "code",
      "execution_count": null,
      "metadata": {
        "collapsed": false
      },
      "outputs": [],
      "source": [
        "df[is_nondom]"
      ]
    },
    {
      "cell_type": "markdown",
      "metadata": {},
      "source": [
        "This is different from calculating the nondominated set over all sets:\n\n"
      ]
    },
    {
      "cell_type": "code",
      "execution_count": null,
      "metadata": {
        "collapsed": false
      },
      "outputs": [],
      "source": [
        "moocore.filter_dominated(df[obj_cols])"
      ]
    }
  ],
  "metadata": {
    "kernelspec": {
      "display_name": "Python 3",
      "language": "python",
      "name": "python3"
    },
    "language_info": {
      "codemirror_mode": {
        "name": "ipython",
        "version": 3
      },
      "file_extension": ".py",
      "mimetype": "text/x-python",
      "name": "python",
      "nbconvert_exporter": "python",
      "pygments_lexer": "ipython3",
      "version": "3.10.19"
    }
  },
  "nbformat": 4,
  "nbformat_minor": 0
}